{
 "cells": [
  {
   "cell_type": "markdown",
   "metadata": {},
   "source": [
    "# Assignment 2"
   ]
  },
  {
   "cell_type": "markdown",
   "metadata": {},
   "source": [
    "In this assigment, we will work with the *Adult* data set. Please download the data from the [UCI Machine Learning Repository](https://archive.ics.uci.edu/dataset/2/adult). Extract the data files into the subdirectory: `../05_src/data/adult/` (relative to `./05_src/`)."
   ]
  },
  {
   "cell_type": "markdown",
   "metadata": {},
   "source": [
    "# Load the data\n",
    "\n",
    "Assuming that the files `adult.data` and `adult.test` are in `../05_src/data/adult/`, then you can use the code below to load them."
   ]
  },
  {
   "cell_type": "code",
   "execution_count": 3,
   "metadata": {},
   "outputs": [],
   "source": [
    "import pandas as pd\n",
    "columns = [\n",
    "    'age', 'workclass', 'fnlwgt', 'education', 'education-num', 'marital-status',\n",
    "    'occupation', 'relationship', 'race', 'sex', 'capital-gain', 'capital-loss', 'hours-per-week',\n",
    "    'native-country', 'income'\n",
    "]\n",
    "adult_dt = (pd.read_csv('../../05_src/data/adult/adult.data', header = None, names = columns)\n",
    "              .assign(income = lambda x: (x.income.str.strip() == '>50K')*1))\n"
   ]
  },
  {
   "cell_type": "markdown",
   "metadata": {},
   "source": [
    "# Get X and Y\n",
    "\n",
    "Create the features data frame and target data:\n",
    "\n",
    "+ Create a dataframe `X` that holds the features (all columns that are not `income`).\n",
    "+ Create a dataframe `Y` that holds the target data (`income`).\n",
    "+ From `X` and `Y`, obtain the training and testing data sets:\n",
    "\n",
    "    - Use a train-test split of 70-30%. \n",
    "    - Set the random state of the splitting function to 42."
   ]
  },
  {
   "cell_type": "code",
   "execution_count": 4,
   "metadata": {},
   "outputs": [
    {
     "name": "stdout",
     "output_type": "stream",
     "text": [
      "Dataset shapes:\n",
      "Original data: (32561, 15)\n",
      "\n",
      "Features (X):\n",
      "X_train shape: (22792, 14)\n",
      "X_test shape: (9769, 14)\n",
      "\n",
      "Target (Y):\n",
      "Y_train shape: (22792,)\n",
      "Y_test shape: (9769,)\n",
      "\n",
      "Split proportions:\n",
      "Training set: 70.00%\n",
      "Testing set: 30.00%\n"
     ]
    }
   ],
   "source": [
    "# create X and Y\n",
    "X = adult_dt.drop('income', axis=1)  # All columns except 'income'\n",
    "Y = adult_dt['income']               # Just the 'income' column\n",
    "\n",
    "# split the data using train_test_split\n",
    "from sklearn.model_selection import train_test_split\n",
    "\n",
    "X_train, X_test, Y_train, Y_test = train_test_split(\n",
    "    X,                  # Features\n",
    "    Y,                  # Target\n",
    "    test_size=0.3,      # 30% for testing, 70% for training\n",
    "    random_state=42     # For reproducibility\n",
    ")\n",
    "\n",
    "# verify \n",
    "print(\"Dataset shapes:\")\n",
    "print(f\"Original data: {adult_dt.shape}\")\n",
    "print(\"\\nFeatures (X):\")\n",
    "print(f\"X_train shape: {X_train.shape}\")\n",
    "print(f\"X_test shape: {X_test.shape}\")\n",
    "print(\"\\nTarget (Y):\")\n",
    "print(f\"Y_train shape: {Y_train.shape}\")\n",
    "print(f\"Y_test shape: {Y_test.shape}\")\n",
    "\n",
    "# Verify the split proportions\n",
    "print(\"\\nSplit proportions:\")\n",
    "print(f\"Training set: {len(X_train) / len(X):.2%}\")\n",
    "print(f\"Testing set: {len(X_test) / len(X):.2%}\")"
   ]
  },
  {
   "cell_type": "markdown",
   "metadata": {},
   "source": [
    "## Random States\n",
    "\n",
    "Please comment: \n",
    "\n",
    "+ What is the [random state](https://scikit-learn.org/stable/glossary.html#term-random_state) of the [splitting function](https://scikit-learn.org/stable/modules/generated/sklearn.model_selection.train_test_split.html)? \n",
    "+ Why is it [useful](https://en.wikipedia.org/wiki/Reproducibility)?"
   ]
  },
  {
   "cell_type": "markdown",
   "metadata": {},
   "source": [
    "The random state of the splitting function is set to 42.   Since setting this fixed value ensures that every time the code is run, it will produce the exact same train-test split of the data allowing others to reproduce the same results.\n"
   ]
  },
  {
   "cell_type": "markdown",
   "metadata": {},
   "source": [
    "# Preprocessing\n",
    "\n",
    "Create a [Column Transformer](https://scikit-learn.org/stable/modules/generated/sklearn.compose.ColumnTransformer.html) that treats the features as follows:\n",
    "\n",
    "- Numerical variables\n",
    "\n",
    "    * Apply [KNN-based imputation for completing missing values](https://scikit-learn.org/stable/modules/generated/sklearn.impute.KNNImputer.html):\n",
    "        \n",
    "        + Consider the 7 nearest neighbours.\n",
    "        + Weight each neighbour by the inverse of its distance, causing closer neigbours to have more influence than more distant ones.\n",
    "    * [Scale features using statistics that are robust to outliers](https://scikit-learn.org/stable/modules/generated/sklearn.preprocessing.RobustScaler.html#sklearn.preprocessing.RobustScaler).\n",
    "\n",
    "- Categorical variables: \n",
    "    \n",
    "    * Apply a [simple imputation strategy](https://scikit-learn.org/stable/modules/generated/sklearn.impute.SimpleImputer.html#sklearn.impute.SimpleImputer):\n",
    "\n",
    "        + Use the most frequent value to complete missing values, also called the *mode*.\n",
    "\n",
    "    * Apply [one-hot encoding](https://scikit-learn.org/stable/modules/generated/sklearn.preprocessing.OneHotEncoder.html):\n",
    "        \n",
    "        + Handle unknown labels if they exist.\n",
    "        + Drop one column for binary variables.\n",
    "    \n",
    "    \n",
    "The column transformer should look like this:\n",
    "\n",
    "![](./images/assignment_2__column_transformer.png)"
   ]
  },
  {
   "cell_type": "code",
   "execution_count": 7,
   "metadata": {},
   "outputs": [
    {
     "name": "stdout",
     "output_type": "stream",
     "text": [
      "Column Transformer Structure:\n",
      "{'cat': Pipeline(steps=[('imputer', SimpleImputer(strategy='most_frequent')),\n",
      "                ('onehot',\n",
      "                 OneHotEncoder(drop='binary', handle_unknown='ignore'))]),\n",
      " 'cat__imputer': SimpleImputer(strategy='most_frequent'),\n",
      " 'cat__imputer__add_indicator': False,\n",
      " 'cat__imputer__copy': True,\n",
      " 'cat__imputer__fill_value': None,\n",
      " 'cat__imputer__keep_empty_features': False,\n",
      " 'cat__imputer__missing_values': nan,\n",
      " 'cat__imputer__strategy': 'most_frequent',\n",
      " 'cat__memory': None,\n",
      " 'cat__onehot': OneHotEncoder(drop='binary', handle_unknown='ignore'),\n",
      " 'cat__onehot__categories': 'auto',\n",
      " 'cat__onehot__drop': 'binary',\n",
      " 'cat__onehot__dtype': <class 'numpy.float64'>,\n",
      " 'cat__onehot__feature_name_combiner': 'concat',\n",
      " 'cat__onehot__handle_unknown': 'ignore',\n",
      " 'cat__onehot__max_categories': None,\n",
      " 'cat__onehot__min_frequency': None,\n",
      " 'cat__onehot__sparse_output': True,\n",
      " 'cat__steps': [('imputer', SimpleImputer(strategy='most_frequent')),\n",
      "                ('onehot',\n",
      "                 OneHotEncoder(drop='binary', handle_unknown='ignore'))],\n",
      " 'cat__verbose': False,\n",
      " 'force_int_remainder_cols': True,\n",
      " 'n_jobs': None,\n",
      " 'num': Pipeline(steps=[('imputer', KNNImputer(n_neighbors=7, weights='distance')),\n",
      "                ('scaler', RobustScaler())]),\n",
      " 'num__imputer': KNNImputer(n_neighbors=7, weights='distance'),\n",
      " 'num__imputer__add_indicator': False,\n",
      " 'num__imputer__copy': True,\n",
      " 'num__imputer__keep_empty_features': False,\n",
      " 'num__imputer__metric': 'nan_euclidean',\n",
      " 'num__imputer__missing_values': nan,\n",
      " 'num__imputer__n_neighbors': 7,\n",
      " 'num__imputer__weights': 'distance',\n",
      " 'num__memory': None,\n",
      " 'num__scaler': RobustScaler(),\n",
      " 'num__scaler__copy': True,\n",
      " 'num__scaler__quantile_range': (25.0, 75.0),\n",
      " 'num__scaler__unit_variance': False,\n",
      " 'num__scaler__with_centering': True,\n",
      " 'num__scaler__with_scaling': True,\n",
      " 'num__steps': [('imputer', KNNImputer(n_neighbors=7, weights='distance')),\n",
      "                ('scaler', RobustScaler())],\n",
      " 'num__verbose': False,\n",
      " 'remainder': 'drop',\n",
      " 'sparse_threshold': 0.3,\n",
      " 'transformer_weights': None,\n",
      " 'transformers': [('num',\n",
      "                   Pipeline(steps=[('imputer', KNNImputer(n_neighbors=7, weights='distance')),\n",
      "                ('scaler', RobustScaler())]),\n",
      "                   ['age',\n",
      "                    'fnlwgt',\n",
      "                    'education-num',\n",
      "                    'capital-gain',\n",
      "                    'capital-loss',\n",
      "                    'hours-per-week']),\n",
      "                  ('cat',\n",
      "                   Pipeline(steps=[('imputer', SimpleImputer(strategy='most_frequent')),\n",
      "                ('onehot',\n",
      "                 OneHotEncoder(drop='binary', handle_unknown='ignore'))]),\n",
      "                   ['workclass',\n",
      "                    'education',\n",
      "                    'marital-status',\n",
      "                    'occupation',\n",
      "                    'relationship',\n",
      "                    'race',\n",
      "                    'sex',\n",
      "                    'native-country'])],\n",
      " 'verbose': False,\n",
      " 'verbose_feature_names_out': True}\n"
     ]
    }
   ],
   "source": [
    "from sklearn.compose import ColumnTransformer\n",
    "from sklearn.impute import KNNImputer, SimpleImputer\n",
    "from sklearn.preprocessing import RobustScaler, OneHotEncoder\n",
    "from sklearn.pipeline import Pipeline  # Added this import\n",
    "\n",
    "# identify numerical and categorical columns\n",
    "numerical_features = ['age', 'fnlwgt', 'education-num', 'capital-gain', \n",
    "                     'capital-loss', 'hours-per-week']\n",
    "\n",
    "categorical_features = ['workclass', 'education', 'marital-status', 'occupation',\n",
    "                       'relationship', 'race', 'sex', 'native-country']\n",
    "\n",
    "# Create the numeric pipeline\n",
    "numeric_transformer = Pipeline(steps=[\n",
    "    ('imputer', KNNImputer(n_neighbors=7, weights='distance')),\n",
    "    ('scaler', RobustScaler())\n",
    "])\n",
    "\n",
    "# Create the categorical pipeline\n",
    "categorical_transformer = Pipeline(steps=[\n",
    "    ('imputer', SimpleImputer(strategy='most_frequent')),\n",
    "    ('onehot', OneHotEncoder(handle_unknown='ignore', drop='binary'))\n",
    "])\n",
    "\n",
    "# Create the column transformer\n",
    "preprocessor = ColumnTransformer(\n",
    "    transformers=[\n",
    "        ('num', numeric_transformer, numerical_features),\n",
    "        ('cat', categorical_transformer, categorical_features)\n",
    "    ])\n",
    "\n",
    "# verify the structure\n",
    "from pprint import pprint\n",
    "print(\"Column Transformer Structure:\")\n",
    "pprint(preprocessor.get_params())"
   ]
  },
  {
   "cell_type": "markdown",
   "metadata": {},
   "source": [
    "## Model Pipeline\n",
    "\n",
    "Create a [model pipeline](https://scikit-learn.org/stable/modules/generated/sklearn.pipeline.Pipeline.html): \n",
    "\n",
    "+ Add a step labelled `preprocessing` and assign the Column Transformer from the previous section.\n",
    "+ Add a step labelled `classifier` and assign a [`RandomForestClassifier()`](https://scikit-learn.org/stable/modules/generated/sklearn.ensemble.RandomForestClassifier.html) to it.\n",
    "\n",
    "The pipeline looks like this:\n",
    "\n",
    "![](./images/assignment_2__pipeline.png)"
   ]
  },
  {
   "cell_type": "code",
   "execution_count": 11,
   "metadata": {},
   "outputs": [
    {
     "name": "stdout",
     "output_type": "stream",
     "text": [
      "Pipeline steps:\n",
      "\n",
      "preprocessing:\n",
      "ColumnTransformer(transformers=[('num',\n",
      "                                 Pipeline(steps=[('imputer',\n",
      "                                                  KNNImputer(n_neighbors=7,\n",
      "                                                             weights='distance')),\n",
      "                                                 ('scaler', RobustScaler())]),\n",
      "                                 ['age', 'fnlwgt', 'education-num',\n",
      "                                  'capital-gain', 'capital-loss',\n",
      "                                  'hours-per-week']),\n",
      "                                ('cat',\n",
      "                                 Pipeline(steps=[('imputer',\n",
      "                                                  SimpleImputer(strategy='most_frequent')),\n",
      "                                                 ('onehot',\n",
      "                                                  OneHotEncoder(drop='binary',\n",
      "                                                                handle_unknown='ignore'))]),\n",
      "                                 ['workclass', 'education', 'marital-status',\n",
      "                                  'occupation', 'relationship', 'race', 'sex',\n",
      "                                  'native-country'])])\n",
      "\n",
      "classifier:\n",
      "RandomForestClassifier()\n"
     ]
    }
   ],
   "source": [
    "\n",
    "from sklearn.ensemble import RandomForestClassifier\n",
    "from sklearn.pipeline import Pipeline\n",
    "\n",
    "#full pipeline\n",
    "pipe = Pipeline(steps=[\n",
    "    ('preprocessing', preprocessor),\n",
    "    ('classifier', RandomForestClassifier())\n",
    "])\n",
    "\n",
    "# pipeline structure\n",
    "print(\"Pipeline steps:\")\n",
    "for step_name, step in pipe.named_steps.items():\n",
    "    print(f\"\\n{step_name}:\")\n",
    "    print(step)\n"
   ]
  },
  {
   "cell_type": "markdown",
   "metadata": {},
   "source": [
    "# Cross-Validation\n",
    "\n",
    "Evaluate the model pipeline using [`cross_validate()`](https://scikit-learn.org/stable/modules/generated/sklearn.model_selection.cross_validate.html):\n",
    "\n",
    "+ Measure the following [preformance metrics](https://scikit-learn.org/stable/modules/model_evaluation.html#common-cases-predefined-values): negative log loss, ROC AUC, accuracy, and balanced accuracy.\n",
    "+ Report the training and validation results. \n",
    "+ Use five folds.\n"
   ]
  },
  {
   "cell_type": "code",
   "execution_count": 16,
   "metadata": {},
   "outputs": [
    {
     "name": "stderr",
     "output_type": "stream",
     "text": [
      "/opt/miniconda3/envs/dsi_participant/lib/python3.9/site-packages/sklearn/preprocessing/_encoders.py:242: UserWarning: Found unknown categories in columns [7] during transform. These unknown categories will be encoded as all zeros\n",
      "  warnings.warn(\n",
      "/opt/miniconda3/envs/dsi_participant/lib/python3.9/site-packages/sklearn/preprocessing/_encoders.py:242: UserWarning: Found unknown categories in columns [7] during transform. These unknown categories will be encoded as all zeros\n",
      "  warnings.warn(\n"
     ]
    }
   ],
   "source": [
    "from sklearn.compose import ColumnTransformer\n",
    "from sklearn.impute import KNNImputer, SimpleImputer\n",
    "from sklearn.preprocessing import RobustScaler, OneHotEncoder\n",
    "from sklearn.pipeline import Pipeline\n",
    "from sklearn.ensemble import RandomForestClassifier\n",
    "from sklearn.model_selection import cross_validate\n",
    "from sklearn.metrics import make_scorer, log_loss, roc_auc_score\n",
    "from sklearn.metrics import accuracy_score, balanced_accuracy_score\n",
    "\n",
    "# identify numerical and categorical columns\n",
    "numerical_features = ['age', 'fnlwgt', 'education-num', 'capital-gain', \n",
    "                     'capital-loss', 'hours-per-week']\n",
    "\n",
    "categorical_features = ['workclass', 'education', 'marital-status', 'occupation',\n",
    "                       'relationship', 'race', 'sex', 'native-country']\n",
    "\n",
    "# Create the numeric pipeline\n",
    "numeric_transformer = Pipeline(steps=[\n",
    "    ('imputer', KNNImputer(n_neighbors=7, weights='distance')),\n",
    "    ('scaler', RobustScaler())\n",
    "])\n",
    "\n",
    "# Create the categorical pipeline (fixed the drop parameter)\n",
    "categorical_transformer = Pipeline(steps=[\n",
    "    ('imputer', SimpleImputer(strategy='most_frequent')),\n",
    "    ('onehot', OneHotEncoder(handle_unknown='ignore', drop='if_binary'))\n",
    "])\n",
    "\n",
    "# Create the column transformer\n",
    "preprocessor = ColumnTransformer(\n",
    "    transformers=[\n",
    "        ('num', numeric_transformer, numerical_features),\n",
    "        ('cat', categorical_transformer, categorical_features)\n",
    "    ])\n",
    "\n",
    "# Create the full pipeline\n",
    "pipe = Pipeline(steps=[\n",
    "    ('preprocessing', preprocessor),\n",
    "    ('classifier', RandomForestClassifier())\n",
    "])\n",
    "\n",
    "# Define scoring metrics\n",
    "scoring = {\n",
    "    'neg_log_loss': 'neg_log_loss',\n",
    "    'roc_auc': 'roc_auc',\n",
    "    'accuracy': 'accuracy',\n",
    "    'balanced_accuracy': 'balanced_accuracy'\n",
    "}\n",
    "\n",
    "# Perform cross-validation\n",
    "cv_results = cross_validate(\n",
    "    pipe,\n",
    "    X_train,\n",
    "    Y_train,\n",
    "    scoring=scoring,\n",
    "    cv=5,                # 5 folds\n",
    "    return_train_score=True  # To get both training and validation scores\n",
    ")\n",
    "\n",
    "# Convert results to a DF and sort by test neg_log_loss\n",
    "cv_df = pd.DataFrame({\n",
    "    'train_neg_log_loss': cv_results['train_neg_log_loss'],\n",
    "    'test_neg_log_loss': cv_results['test_neg_log_loss'],\n",
    "    'train_roc_auc': cv_results['train_roc_auc'],\n",
    "    'test_roc_auc': cv_results['test_roc_auc'],\n",
    "    'train_accuracy': cv_results['train_accuracy'],\n",
    "    'test_accuracy': cv_results['test_accuracy'],\n",
    "    'train_balanced_accuracy': cv_results['train_balanced_accuracy'],\n",
    "    'test_balanced_accuracy': cv_results['test_balanced_accuracy']\n",
    "})\n",
    "\n"
   ]
  },
  {
   "cell_type": "markdown",
   "metadata": {},
   "source": [
    "Display the fold-level results as a pandas data frame and sorted by negative log loss of the test (validation) set."
   ]
  },
  {
   "cell_type": "code",
   "execution_count": 17,
   "metadata": {},
   "outputs": [
    {
     "name": "stdout",
     "output_type": "stream",
     "text": [
      "Fold-level results sorted by test neg_log_loss:\n",
      "   train_neg_log_loss  test_neg_log_loss  train_roc_auc  test_roc_auc  \\\n",
      "0           -0.081373          -0.347234            1.0      0.906596   \n",
      "1           -0.081234          -0.369813            1.0      0.900860   \n",
      "3           -0.081596          -0.377562            1.0      0.906721   \n",
      "2           -0.081754          -0.388913            1.0      0.901826   \n",
      "4           -0.081203          -0.402065            1.0      0.901364   \n",
      "\n",
      "   train_accuracy  test_accuracy  train_balanced_accuracy  \\\n",
      "0        0.999945       0.851722                 0.999887   \n",
      "1        1.000000       0.850844                 1.000000   \n",
      "3        0.999945       0.857394                 0.999887   \n",
      "2        1.000000       0.851251                 1.000000   \n",
      "4        1.000000       0.856077                 1.000000   \n",
      "\n",
      "   test_balanced_accuracy  \n",
      "0                0.777359  \n",
      "1                0.770634  \n",
      "3                0.781573  \n",
      "2                0.772596  \n",
      "4                0.777935  \n"
     ]
    }
   ],
   "source": [
    "# Display fold-level results sorted by test neg_log_loss\n",
    "print(\"Fold-level results sorted by test neg_log_loss:\")\n",
    "print(cv_df.sort_values('test_neg_log_loss', ascending=False))\n",
    "\n"
   ]
  },
  {
   "cell_type": "markdown",
   "metadata": {},
   "source": [
    "Calculate the mean of each metric. "
   ]
  },
  {
   "cell_type": "code",
   "execution_count": 18,
   "metadata": {},
   "outputs": [
    {
     "name": "stdout",
     "output_type": "stream",
     "text": [
      "\n",
      "Mean of each metric:\n",
      "train_neg_log_loss        -0.081432\n",
      "test_neg_log_loss         -0.377117\n",
      "train_roc_auc              1.000000\n",
      "test_roc_auc               0.903473\n",
      "train_accuracy             0.999978\n",
      "test_accuracy              0.853458\n",
      "train_balanced_accuracy    0.999955\n",
      "test_balanced_accuracy     0.776020\n",
      "dtype: float64\n"
     ]
    }
   ],
   "source": [
    "# Calculate mean of each metric\n",
    "print(\"\\nMean of each metric:\")\n",
    "means = cv_df.mean()\n",
    "print(means)\n",
    "\n"
   ]
  },
  {
   "cell_type": "markdown",
   "metadata": {},
   "source": [
    "Calculate the same performance metrics (negative log loss, ROC AUC, accuracy, and balanced accuracy) using the testing data `X_test` and `Y_test`. Display results as a dictionary.\n",
    "\n",
    "*Tip*: both, `roc_auc()` and `neg_log_loss()` will require prediction scores from `pipe.predict_proba()`. However, for `roc_auc()` you should only pass the last column `Y_pred_proba[:, 1]`. Use `Y_pred_proba` with `neg_log_loss()`."
   ]
  },
  {
   "cell_type": "code",
   "execution_count": 19,
   "metadata": {},
   "outputs": [
    {
     "name": "stdout",
     "output_type": "stream",
     "text": [
      "\n",
      "Test set metrics:\n",
      "{'neg_log_loss': -0.3682265163220453, 'roc_auc': 0.9003652569406646, 'accuracy': 0.8552564233800799, 'balanced_accuracy': 0.7743361928992567}\n"
     ]
    }
   ],
   "source": [
    "# Calculate metrics on test set\n",
    "pipe.fit(X_train, Y_train)\n",
    "Y_pred_proba = pipe.predict_proba(X_test)\n",
    "Y_pred = pipe.predict(X_test)\n",
    "\n",
    "# Calculate test metrics\n",
    "test_results = {\n",
    "    'neg_log_loss': -log_loss(Y_test, Y_pred_proba),\n",
    "    'roc_auc': roc_auc_score(Y_test, Y_pred_proba[:, 1]),\n",
    "    'accuracy': accuracy_score(Y_test, Y_pred),\n",
    "    'balanced_accuracy': balanced_accuracy_score(Y_test, Y_pred)\n",
    "}\n",
    "\n",
    "print(\"\\nTest set metrics:\")\n",
    "print(test_results)"
   ]
  },
  {
   "cell_type": "markdown",
   "metadata": {},
   "source": [
    "# Target Recoding\n",
    "\n",
    "In the first code chunk of this document, we loaded the data and immediately recoded the target variable `income`. Why is this [convenient](https://scikit-learn.org/stable/modules/model_evaluation.html#binary-case)?\n",
    "\n",
    "The specific line was:\n",
    "\n",
    "```\n",
    "adult_dt = (pd.read_csv('../05_src/data/adult/adult.data', header = None, names = columns)\n",
    "              .assign(income = lambda x: (x.income.str.strip() == '>50K')*1))\n",
    "```"
   ]
  },
  {
   "cell_type": "markdown",
   "metadata": {},
   "source": [
    "(Answer here.)"
   ]
  },
  {
   "cell_type": "markdown",
   "metadata": {},
   "source": [
    "Using numeric values instead of strings is more efficient for memory usage and computations."
   ]
  },
  {
   "cell_type": "markdown",
   "metadata": {},
   "source": [
    "## Criteria\n",
    "\n",
    "The [rubric](./assignment_2_rubric_clean.xlsx) contains the criteria for assessment."
   ]
  },
  {
   "cell_type": "markdown",
   "metadata": {},
   "source": [
    "## Submission Information\n",
    "\n",
    "🚨 **Please review our [Assignment Submission Guide](https://github.com/UofT-DSI/onboarding/blob/main/onboarding_documents/submissions.md)** 🚨 for detailed instructions on how to format, branch, and submit your work. Following these guidelines is crucial for your submissions to be evaluated correctly.\n",
    "\n",
    "### Submission Parameters:\n",
    "* Submission Due Date: `HH:MM AM/PM - DD/MM/YYYY`\n",
    "* The branch name for your repo should be: `assignment-2`\n",
    "* What to submit for this assignment:\n",
    "    * This Jupyter Notebook (assignment_2.ipynb) should be populated and should be the only change in your pull request.\n",
    "* What the pull request link should look like for this assignment: `https://github.com/<your_github_username>/production/pull/<pr_id>`\n",
    "    * Open a private window in your browser. Copy and paste the link to your pull request into the address bar. Make sure you can see your pull request properly. This helps the technical facilitator and learning support staff review your submission easily.\n",
    "\n",
    "Checklist:\n",
    "- [ ] Created a branch with the correct naming convention.\n",
    "- [ ] Ensured that the repository is public.\n",
    "- [ ] Reviewed the PR description guidelines and adhered to them.\n",
    "- [ ] Verify that the link is accessible in a private browser window.\n",
    "\n",
    "If you encounter any difficulties or have questions, please don't hesitate to reach out to our team via our Slack at `#cohort-3-help`. Our Technical Facilitators and Learning Support staff are here to help you navigate any challenges."
   ]
  },
  {
   "cell_type": "markdown",
   "metadata": {},
   "source": [
    "# Reference\n",
    "\n",
    "Becker,Barry and Kohavi,Ronny. (1996). Adult. UCI Machine Learning Repository. https://doi.org/10.24432/C5XW20."
   ]
  }
 ],
 "metadata": {
  "kernelspec": {
   "display_name": "dsi_participant",
   "language": "python",
   "name": "python3"
  },
  "language_info": {
   "codemirror_mode": {
    "name": "ipython",
    "version": 3
   },
   "file_extension": ".py",
   "mimetype": "text/x-python",
   "name": "python",
   "nbconvert_exporter": "python",
   "pygments_lexer": "ipython3",
   "version": "3.9.19"
  }
 },
 "nbformat": 4,
 "nbformat_minor": 2
}
