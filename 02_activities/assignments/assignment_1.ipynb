{
 "cells": [
  {
   "cell_type": "markdown",
   "metadata": {},
   "source": [
    "# Working with parquet files\n",
    "\n",
    "## Objective\n",
    "\n",
    "+ In this assignment, we will use the data downloaded with the module `data_manager` to create features.\n",
    "\n",
    "(11 pts total)\n",
    "\n",
    "## Prerequisites\n",
    "\n",
    "+ This notebook assumes that price data is available to you in the environment variable `PRICE_DATA`. If you have not done so, then execute the notebook `production_2_data_engineering.ipynb` to create this data set.\n"
   ]
  },
  {
   "cell_type": "markdown",
   "metadata": {},
   "source": [
    "+ Load the environment variables using dotenv. (1 pt)"
   ]
  },
  {
   "cell_type": "code",
   "execution_count": 4,
   "metadata": {},
   "outputs": [],
   "source": [
    "import os\n",
    "import time\n",
    "# Set the working directory to the location of the `.env` file\n",
    "os.chdir('../../02_activities/assignments')\n",
    "\n",
    "# Load env variables from the `.env` file\n",
    "from dotenv import load_dotenv\n",
    "load_dotenv() \n",
    "\n",
    "\n",
    "%reload_ext dotenv\n",
    "%dotenv\n",
    "\n"
   ]
  },
  {
   "cell_type": "code",
   "execution_count": 5,
   "metadata": {},
   "outputs": [],
   "source": [
    "import dask\n",
    "dask.config.set({'dataframe.query-planning': True})\n",
    "import dask.dataframe as dd"
   ]
  },
  {
   "cell_type": "markdown",
   "metadata": {},
   "source": [
    "+ Load the environment variable `PRICE_DATA`.\n",
    "+ Use [glob](https://docs.python.org/3/library/glob.html) to find the path of all parquet files in the directory `PRICE_DATA`.\n",
    "\n",
    "(1pt)"
   ]
  },
  {
   "cell_type": "code",
   "execution_count": 8,
   "metadata": {},
   "outputs": [
    {
     "name": "stdout",
     "output_type": "stream",
     "text": [
      "PRICE_DATA directory: ../../05_src/data/prices/\n",
      "Parquet files found: ['../../05_src/data/prices/CTAS/CTAS_2008.parquet/part.0.parquet', '../../05_src/data/prices/CTAS/CTAS_2018.parquet/part.0.parquet', '../../05_src/data/prices/CTAS/CTAS_2011.parquet/part.0.parquet', '../../05_src/data/prices/CTAS/CTAS_2001.parquet/part.0.parquet', '../../05_src/data/prices/CTAS/CTAS_2000.parquet/part.0.parquet']\n"
     ]
    }
   ],
   "source": [
    "\n",
    "import os\n",
    "from glob import glob\n",
    "\n",
    "\n",
    "PRICE_DATA = os.getenv('PRICE_DATA')\n",
    "print(f\"PRICE_DATA directory: {PRICE_DATA}\")\n",
    "\n",
    "\n",
    "parquet_files = glob(os.path.join(PRICE_DATA, '*/*/*.parquet'))\n",
    "print(f\"Parquet files found: {parquet_files[:5]}\")  # Print the first few files\n",
    "\n",
    "\n",
    "dd_px = dd.read_parquet(parquet_files,npartitions=len(\"ticker\")).set_index(\"ticker\")\n",
    "\n"
   ]
  },
  {
   "cell_type": "markdown",
   "metadata": {},
   "source": [
    "For each ticker and using Dask, do the following:\n",
    "\n",
    "+ Add lags for variables Close and Adj_Close.\n",
    "+ Add returns based on Adjusted Close:\n",
    "    \n",
    "    - `returns`: (Adj Close / Adj Close_lag) - 1\n",
    "\n",
    "+ Add the following range: \n",
    "\n",
    "    - `hi_lo_range`: this is the day's High minus Low.\n",
    "\n",
    "+ Assign the result to `dd_feat`.\n",
    "\n",
    "(4 pt)"
   ]
  },
  {
   "cell_type": "code",
   "execution_count": 14,
   "metadata": {},
   "outputs": [
    {
     "name": "stderr",
     "output_type": "stream",
     "text": [
      "/var/folders/v2/3kvz36y16hg4ry1svvl61dmm0000gn/T/ipykernel_72596/2916511836.py:6: UserWarning: `meta` is not specified, inferred from partial data. Please provide `meta` if the result is unexpected.\n",
      "  Before: .apply(func)\n",
      "  After:  .apply(func, meta={'x': 'f8', 'y': 'f8'}) for dataframe result\n",
      "  or:     .apply(func, meta=('x', 'f8'))            for series result\n",
      "  dd_feat = (dd_px.groupby('ticker', group_keys=False).apply(\n"
     ]
    }
   ],
   "source": [
    "# Write your code below.\n",
    "import numpy as np\n",
    "\n",
    "# Create new features\n",
    "\n",
    "dd_feat = (dd_px.groupby('ticker', group_keys=False).apply(\n",
    "    lambda x: x.assign(Close_lag_1 = x['Close'].shift(1))\n",
    ").assign(\n",
    "    Adj_Close = lambda x: x['Close']\n",
    ").assign(\n",
    "    Adj_Close_lag_1 = lambda x: x['Adj_Close'].shift(1)\n",
    ").assign(    \n",
    "    returns = lambda x: x['Close']/x['Close_lag_1'] - 1\n",
    ").assign(\n",
    "    hi_lo_range = lambda x: (x['High'] - x['Low'])\n",
    "))\n"
   ]
  },
  {
   "cell_type": "markdown",
   "metadata": {},
   "source": [
    "+ Convert the Dask data frame to a pandas data frame. \n",
    "+ Add a rolling average return calculation with a window of 10 days.\n",
    "+ *Tip*: Consider using `.rolling(10).mean()`.\n",
    "\n",
    "(3 pt)"
   ]
  },
  {
   "cell_type": "code",
   "execution_count": 18,
   "metadata": {},
   "outputs": [
    {
     "name": "stdout",
     "output_type": "stream",
     "text": [
      "             Date        Open        High         Low       Close   Adj Close  \\\n",
      "ticker                                                                          \n",
      "HII    2024-10-21  262.820007  263.459991  259.769989  261.239990  261.239990   \n",
      "HII    2024-10-22  260.690002  260.690002  255.500000  257.109985  257.109985   \n",
      "HII    2024-10-23  257.000000  257.269989  253.070007  256.000000  256.000000   \n",
      "HII    2024-10-24  255.149994  257.559998  254.050003  254.699997  254.699997   \n",
      "HII    2024-10-25  257.239990  258.470001  252.550003  253.830002  253.830002   \n",
      "\n",
      "        Volume       sector            subsector  year  Close_lag_1  \\\n",
      "ticker                                                                \n",
      "HII     185700  Industrials  Aerospace & Defense  2024   261.529999   \n",
      "HII     175700  Industrials  Aerospace & Defense  2024   261.239990   \n",
      "HII     196100  Industrials  Aerospace & Defense  2024   257.109985   \n",
      "HII     172400  Industrials  Aerospace & Defense  2024   256.000000   \n",
      "HII     274100  Industrials  Aerospace & Defense  2024   254.699997   \n",
      "\n",
      "         Adj_Close  Adj_Close_lag_1   returns  hi_lo_range  rolling_avg_return  \n",
      "ticker                                                                          \n",
      "HII     261.239990       261.529999 -0.001109     3.690002            0.001939  \n",
      "HII     257.109985       261.239990 -0.015809     5.190002           -0.000239  \n",
      "HII     256.000000       257.109985 -0.004317     4.199982           -0.000736  \n",
      "HII     254.699997       256.000000 -0.005078     3.509995            0.000783  \n",
      "HII     253.830002       254.699997 -0.003416     5.919998           -0.002146  \n"
     ]
    }
   ],
   "source": [
    "# Convert to pandas DataFrame\n",
    "pd_feat = dd_feat.compute()\n",
    "\n",
    "# Calculate 10 day rolling average return\n",
    "pd_feat['rolling_avg_return'] = pd_feat['returns'].rolling(window=10).mean()\n",
    "\n",
    "print(pd_feat.tail())"
   ]
  },
  {
   "cell_type": "markdown",
   "metadata": {},
   "source": [
    "Please comment:\n",
    "\n",
    "+ Was it necessary to convert to pandas to calculate the moving average return?\n",
    "+ Would it have been better to do it in Dask? Why?\n",
    "\n",
    "(1 pt)"
   ]
  },
  {
   "cell_type": "markdown",
   "metadata": {},
   "source": [
    "No\n",
    "It's better to do the calculation in Dask to avoid loading all the data into memory."
   ]
  },
  {
   "cell_type": "markdown",
   "metadata": {},
   "source": [
    "## Criteria\n",
    "\n",
    "The [rubric](./assignment_1_rubric_clean.xlsx) contains the criteria for grading."
   ]
  },
  {
   "cell_type": "markdown",
   "metadata": {},
   "source": [
    "## Submission Information\n",
    "\n",
    "🚨 **Please review our [Assignment Submission Guide](https://github.com/UofT-DSI/onboarding/blob/main/onboarding_documents/submissions.md)** 🚨 for detailed instructions on how to format, branch, and submit your work. Following these guidelines is crucial for your submissions to be evaluated correctly.\n",
    "\n",
    "### Submission Parameters:\n",
    "* Submission Due Date: `HH:MM AM/PM - DD/MM/YYYY`\n",
    "* The branch name for your repo should be: `assignment-1`\n",
    "* What to submit for this assignment:\n",
    "    * This Jupyter Notebook (assignment_1.ipynb) should be populated and should be the only change in your pull request.\n",
    "* What the pull request link should look like for this assignment: `https://github.com/<your_github_username>/production/pull/<pr_id>`\n",
    "    * Open a private window in your browser. Copy and paste the link to your pull request into the address bar. Make sure you can see your pull request properly. This helps the technical facilitator and learning support staff review your submission easily.\n",
    "\n",
    "Checklist:\n",
    "- [ ] Created a branch with the correct naming convention.\n",
    "- [ ] Ensured that the repository is public.\n",
    "- [ ] Reviewed the PR description guidelines and adhered to them.\n",
    "- [ ] Verify that the link is accessible in a private browser window.\n",
    "\n",
    "If you encounter any difficulties or have questions, please don't hesitate to reach out to our team via our Slack at `#cohort-3-help`. Our Technical Facilitators and Learning Support staff are here to help you navigate any challenges."
   ]
  }
 ],
 "metadata": {
  "kernelspec": {
   "display_name": "dsi_participant",
   "language": "python",
   "name": "python3"
  },
  "language_info": {
   "codemirror_mode": {
    "name": "ipython",
    "version": 3
   },
   "file_extension": ".py",
   "mimetype": "text/x-python",
   "name": "python",
   "nbconvert_exporter": "python",
   "pygments_lexer": "ipython3",
   "version": "3.9.19"
  }
 },
 "nbformat": 4,
 "nbformat_minor": 2
}
